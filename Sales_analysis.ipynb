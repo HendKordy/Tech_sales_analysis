{
 "cells": [
  {
   "cell_type": "code",
   "execution_count": 2,
   "metadata": {},
   "outputs": [],
   "source": [
    "import os\n",
    "\n",
    "import pandas as pd\n",
    "import numpy as np"
   ]
  },
  {
   "cell_type": "markdown",
   "metadata": {},
   "source": [
    "### Read all CSV files into one DataFrame"
   ]
  },
  {
   "cell_type": "code",
   "execution_count": 3,
   "metadata": {},
   "outputs": [
    {
     "name": "stdout",
     "output_type": "stream",
     "text": [
      "Successfully created dataframe for ./Sales_Data/Sales_April_2019.csv with shape (18383, 6)\n",
      "Successfully created dataframe for ./Sales_Data/Sales_August_2019.csv with shape (12011, 6)\n",
      "Successfully created dataframe for ./Sales_Data/Sales_December_2019.csv with shape (25117, 6)\n",
      "Successfully created dataframe for ./Sales_Data/Sales_February_2019.csv with shape (12036, 6)\n",
      "Successfully created dataframe for ./Sales_Data/Sales_January_2019.csv with shape (9723, 6)\n",
      "Successfully created dataframe for ./Sales_Data/Sales_July_2019.csv with shape (14371, 6)\n",
      "Successfully created dataframe for ./Sales_Data/Sales_June_2019.csv with shape (13622, 6)\n",
      "Successfully created dataframe for ./Sales_Data/Sales_March_2019.csv with shape (15226, 6)\n",
      "Successfully created dataframe for ./Sales_Data/Sales_May_2019.csv with shape (16635, 6)\n",
      "Successfully created dataframe for ./Sales_Data/Sales_November_2019.csv with shape (17661, 6)\n",
      "Successfully created dataframe for ./Sales_Data/Sales_October_2019.csv with shape (20379, 6)\n",
      "Successfully created dataframe for ./Sales_Data/Sales_September_2019.csv with shape (11686, 6)\n",
      "(186850, 6)\n"
     ]
    },
    {
     "data": {
      "text/html": [
       "<div>\n",
       "<style scoped>\n",
       "    .dataframe tbody tr th:only-of-type {\n",
       "        vertical-align: middle;\n",
       "    }\n",
       "\n",
       "    .dataframe tbody tr th {\n",
       "        vertical-align: top;\n",
       "    }\n",
       "\n",
       "    .dataframe thead th {\n",
       "        text-align: right;\n",
       "    }\n",
       "</style>\n",
       "<table border=\"1\" class=\"dataframe\">\n",
       "  <thead>\n",
       "    <tr style=\"text-align: right;\">\n",
       "      <th></th>\n",
       "      <th>Order ID</th>\n",
       "      <th>Product</th>\n",
       "      <th>Quantity Ordered</th>\n",
       "      <th>Price Each</th>\n",
       "      <th>Order Date</th>\n",
       "      <th>Purchase Address</th>\n",
       "    </tr>\n",
       "  </thead>\n",
       "  <tbody>\n",
       "    <tr>\n",
       "      <th>0</th>\n",
       "      <td>176558</td>\n",
       "      <td>USB-C Charging Cable</td>\n",
       "      <td>2</td>\n",
       "      <td>11.95</td>\n",
       "      <td>04/19/19 08:46</td>\n",
       "      <td>917 1st St, Dallas, TX 75001</td>\n",
       "    </tr>\n",
       "    <tr>\n",
       "      <th>1</th>\n",
       "      <td>NaN</td>\n",
       "      <td>NaN</td>\n",
       "      <td>NaN</td>\n",
       "      <td>NaN</td>\n",
       "      <td>NaN</td>\n",
       "      <td>NaN</td>\n",
       "    </tr>\n",
       "    <tr>\n",
       "      <th>2</th>\n",
       "      <td>176559</td>\n",
       "      <td>Bose SoundSport Headphones</td>\n",
       "      <td>1</td>\n",
       "      <td>99.99</td>\n",
       "      <td>04/07/19 22:30</td>\n",
       "      <td>682 Chestnut St, Boston, MA 02215</td>\n",
       "    </tr>\n",
       "    <tr>\n",
       "      <th>3</th>\n",
       "      <td>176560</td>\n",
       "      <td>Google Phone</td>\n",
       "      <td>1</td>\n",
       "      <td>600</td>\n",
       "      <td>04/12/19 14:38</td>\n",
       "      <td>669 Spruce St, Los Angeles, CA 90001</td>\n",
       "    </tr>\n",
       "    <tr>\n",
       "      <th>4</th>\n",
       "      <td>176560</td>\n",
       "      <td>Wired Headphones</td>\n",
       "      <td>1</td>\n",
       "      <td>11.99</td>\n",
       "      <td>04/12/19 14:38</td>\n",
       "      <td>669 Spruce St, Los Angeles, CA 90001</td>\n",
       "    </tr>\n",
       "  </tbody>\n",
       "</table>\n",
       "</div>"
      ],
      "text/plain": [
       "  Order ID                     Product Quantity Ordered Price Each  \\\n",
       "0   176558        USB-C Charging Cable                2      11.95   \n",
       "1      NaN                         NaN              NaN        NaN   \n",
       "2   176559  Bose SoundSport Headphones                1      99.99   \n",
       "3   176560                Google Phone                1        600   \n",
       "4   176560            Wired Headphones                1      11.99   \n",
       "\n",
       "       Order Date                      Purchase Address  \n",
       "0  04/19/19 08:46          917 1st St, Dallas, TX 75001  \n",
       "1             NaN                                   NaN  \n",
       "2  04/07/19 22:30     682 Chestnut St, Boston, MA 02215  \n",
       "3  04/12/19 14:38  669 Spruce St, Los Angeles, CA 90001  \n",
       "4  04/12/19 14:38  669 Spruce St, Los Angeles, CA 90001  "
      ]
     },
     "execution_count": 3,
     "metadata": {},
     "output_type": "execute_result"
    }
   ],
   "source": [
    "import glob\n",
    "path = './Sales_Data'\n",
    "files = glob.glob(path + '/*.csv')\n",
    "\n",
    "# create empty list to store dataframes\n",
    "li = []\n",
    "\n",
    "# loop through list of files and read each one into a dataframe and append to list\n",
    "for f in files:\n",
    "    # read in csv\n",
    "    temp_df = pd.read_csv(f)\n",
    "    # append df to list\n",
    "    li.append(temp_df)\n",
    "    print(f'Successfully created dataframe for {f} with shape {temp_df.shape}')\n",
    "\n",
    "\n",
    "# concatenate our list of dataframes into one!\n",
    "sales = pd.concat(li, axis=0)\n",
    "print(sales.shape)\n",
    "sales.head()\n"
   ]
  },
  {
   "cell_type": "code",
   "execution_count": 11,
   "metadata": {},
   "outputs": [
    {
     "data": {
      "text/plain": [
       "(186850, 6)"
      ]
     },
     "execution_count": 11,
     "metadata": {},
     "output_type": "execute_result"
    }
   ],
   "source": [
    "sales.shape"
   ]
  },
  {
   "cell_type": "code",
   "execution_count": 16,
   "metadata": {},
   "outputs": [],
   "source": [
    "orders = pd.DataFrame(sales.groupby('Order ID', as_index = False))\n"
   ]
  },
  {
   "cell_type": "code",
   "execution_count": 10,
   "metadata": {},
   "outputs": [
    {
     "data": {
      "text/html": [
       "<div>\n",
       "<style scoped>\n",
       "    .dataframe tbody tr th:only-of-type {\n",
       "        vertical-align: middle;\n",
       "    }\n",
       "\n",
       "    .dataframe tbody tr th {\n",
       "        vertical-align: top;\n",
       "    }\n",
       "\n",
       "    .dataframe thead th {\n",
       "        text-align: right;\n",
       "    }\n",
       "</style>\n",
       "<table border=\"1\" class=\"dataframe\">\n",
       "  <thead>\n",
       "    <tr style=\"text-align: right;\">\n",
       "      <th></th>\n",
       "      <th>0</th>\n",
       "      <th>1</th>\n",
       "    </tr>\n",
       "  </thead>\n",
       "  <tbody>\n",
       "    <tr>\n",
       "      <th>38687</th>\n",
       "      <td>179921</td>\n",
       "      <td>Order ID       Product Quantity Ordered P...</td>\n",
       "    </tr>\n",
       "    <tr>\n",
       "      <th>92325</th>\n",
       "      <td>233559</td>\n",
       "      <td>Order ID                   Product Quant...</td>\n",
       "    </tr>\n",
       "    <tr>\n",
       "      <th>157823</th>\n",
       "      <td>299057</td>\n",
       "      <td>Order ID                 Product Quantity...</td>\n",
       "    </tr>\n",
       "    <tr>\n",
       "      <th>84721</th>\n",
       "      <td>225955</td>\n",
       "      <td>Order ID                Product Quantity ...</td>\n",
       "    </tr>\n",
       "    <tr>\n",
       "      <th>127435</th>\n",
       "      <td>268669</td>\n",
       "      <td>Order ID           Product Quantity Order...</td>\n",
       "    </tr>\n",
       "    <tr>\n",
       "      <th>43783</th>\n",
       "      <td>185017</td>\n",
       "      <td>Order ID           Product Quantity Order...</td>\n",
       "    </tr>\n",
       "    <tr>\n",
       "      <th>35657</th>\n",
       "      <td>176891</td>\n",
       "      <td>Order ID                 Product Quantity ...</td>\n",
       "    </tr>\n",
       "    <tr>\n",
       "      <th>143207</th>\n",
       "      <td>284441</td>\n",
       "      <td>Order ID               Product Quantity O...</td>\n",
       "    </tr>\n",
       "    <tr>\n",
       "      <th>162426</th>\n",
       "      <td>303660</td>\n",
       "      <td>Order ID               Product Quantity O...</td>\n",
       "    </tr>\n",
       "    <tr>\n",
       "      <th>51764</th>\n",
       "      <td>192998</td>\n",
       "      <td>Order ID           Product Quantity Orde...</td>\n",
       "    </tr>\n",
       "  </tbody>\n",
       "</table>\n",
       "</div>"
      ],
      "text/plain": [
       "             0                                                  1\n",
       "38687   179921       Order ID       Product Quantity Ordered P...\n",
       "92325   233559        Order ID                   Product Quant...\n",
       "157823  299057       Order ID                 Product Quantity...\n",
       "84721   225955       Order ID                Product Quantity ...\n",
       "127435  268669       Order ID           Product Quantity Order...\n",
       "43783   185017       Order ID           Product Quantity Order...\n",
       "35657   176891      Order ID                 Product Quantity ...\n",
       "143207  284441       Order ID               Product Quantity O...\n",
       "162426  303660       Order ID               Product Quantity O...\n",
       "51764   192998        Order ID           Product Quantity Orde..."
      ]
     },
     "execution_count": 10,
     "metadata": {},
     "output_type": "execute_result"
    }
   ],
   "source": [
    "orders.columns"
   ]
  },
  {
   "cell_type": "code",
   "execution_count": null,
   "metadata": {},
   "outputs": [],
   "source": []
  }
 ],
 "metadata": {
  "interpreter": {
   "hash": "d4d1e4263499bec80672ea0156c357c1ee493ec2b1c70f0acce89fc37c4a6abe"
  },
  "kernelspec": {
   "display_name": "Python 3.9.7 64-bit ('base': conda)",
   "language": "python",
   "name": "python3"
  },
  "language_info": {
   "codemirror_mode": {
    "name": "ipython",
    "version": 3
   },
   "file_extension": ".py",
   "mimetype": "text/x-python",
   "name": "python",
   "nbconvert_exporter": "python",
   "pygments_lexer": "ipython3",
   "version": "3.9.7"
  },
  "orig_nbformat": 4
 },
 "nbformat": 4,
 "nbformat_minor": 2
}
